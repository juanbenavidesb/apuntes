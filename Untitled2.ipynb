{
 "cells": [
  {
   "cell_type": "code",
   "execution_count": 1,
   "id": "e08a280d",
   "metadata": {},
   "outputs": [
    {
     "data": {
      "text/plain": [
       "True"
      ]
     },
     "execution_count": 1,
     "metadata": {},
     "output_type": "execute_result"
    }
   ],
   "source": [
    "3+5==8"
   ]
  },
  {
   "cell_type": "code",
   "execution_count": 2,
   "id": "ed14412e",
   "metadata": {},
   "outputs": [],
   "source": [
    "f= False\n",
    "\n"
   ]
  },
  {
   "cell_type": "code",
   "execution_count": 3,
   "id": "8e31be69",
   "metadata": {},
   "outputs": [],
   "source": [
    "t= True\n"
   ]
  },
  {
   "cell_type": "code",
   "execution_count": 4,
   "id": "4616d0c8",
   "metadata": {},
   "outputs": [
    {
     "data": {
      "text/plain": [
       "False"
      ]
     },
     "execution_count": 4,
     "metadata": {},
     "output_type": "execute_result"
    }
   ],
   "source": [
    "f&t # y logica"
   ]
  },
  {
   "cell_type": "code",
   "execution_count": 5,
   "id": "b5dfbb9e",
   "metadata": {},
   "outputs": [
    {
     "data": {
      "text/plain": [
       "True"
      ]
     },
     "execution_count": 5,
     "metadata": {},
     "output_type": "execute_result"
    }
   ],
   "source": [
    "f|t # o logica"
   ]
  },
  {
   "cell_type": "code",
   "execution_count": 6,
   "id": "687e6e58",
   "metadata": {},
   "outputs": [
    {
     "data": {
      "text/plain": [
       "False"
      ]
     },
     "execution_count": 6,
     "metadata": {},
     "output_type": "execute_result"
    }
   ],
   "source": [
    "1+1 != 2 # negacion "
   ]
  },
  {
   "cell_type": "code",
   "execution_count": 7,
   "id": "5e5c6795",
   "metadata": {},
   "outputs": [],
   "source": [
    "i=2\n"
   ]
  },
  {
   "cell_type": "code",
   "execution_count": 8,
   "id": "06dd75c8",
   "metadata": {},
   "outputs": [],
   "source": [
    "i=i + 5"
   ]
  },
  {
   "cell_type": "code",
   "execution_count": 9,
   "id": "779e71e1",
   "metadata": {},
   "outputs": [
    {
     "name": "stdout",
     "output_type": "stream",
     "text": [
      "el valor de la variable i es 7\n"
     ]
    }
   ],
   "source": [
    "print(\"el valor de la variable i es\", i)"
   ]
  },
  {
   "cell_type": "code",
   "execution_count": 12,
   "id": "a8e62434",
   "metadata": {},
   "outputs": [
    {
     "name": "stdout",
     "output_type": "stream",
     "text": [
      "22\n"
     ]
    }
   ],
   "source": [
    "i+=5\n",
    "print(i)"
   ]
  },
  {
   "cell_type": "code",
   "execution_count": 13,
   "id": "f1720ba8",
   "metadata": {},
   "outputs": [],
   "source": [
    "x= 1.35"
   ]
  },
  {
   "cell_type": "code",
   "execution_count": 14,
   "id": "60ef7606",
   "metadata": {},
   "outputs": [
    {
     "name": "stdout",
     "output_type": "stream",
     "text": [
      "1.35\n"
     ]
    }
   ],
   "source": [
    "print(x)"
   ]
  },
  {
   "cell_type": "code",
   "execution_count": 15,
   "id": "81b01b83",
   "metadata": {},
   "outputs": [],
   "source": [
    "a=2"
   ]
  },
  {
   "cell_type": "code",
   "execution_count": 16,
   "id": "e964fbfa",
   "metadata": {},
   "outputs": [
    {
     "data": {
      "text/plain": [
       "int"
      ]
     },
     "execution_count": 16,
     "metadata": {},
     "output_type": "execute_result"
    }
   ],
   "source": [
    "type(a)"
   ]
  },
  {
   "cell_type": "code",
   "execution_count": 17,
   "id": "e4fce492",
   "metadata": {},
   "outputs": [],
   "source": [
    "s= \"hola mundo  \""
   ]
  },
  {
   "cell_type": "code",
   "execution_count": 18,
   "id": "978493ba",
   "metadata": {},
   "outputs": [],
   "source": [
    "z= \" chimba\""
   ]
  },
  {
   "cell_type": "code",
   "execution_count": 29,
   "id": "c390e9f2",
   "metadata": {},
   "outputs": [
    {
     "data": {
      "text/plain": [
       "'hola mundo chimba'"
      ]
     },
     "execution_count": 29,
     "metadata": {},
     "output_type": "execute_result"
    }
   ],
   "source": [
    "s+\" \"+z\n"
   ]
  },
  {
   "cell_type": "code",
   "execution_count": 34,
   "id": "a072a25a",
   "metadata": {},
   "outputs": [
    {
     "name": "stdout",
     "output_type": "stream",
     "text": [
      "h m o\n"
     ]
    }
   ],
   "source": [
    "print(s[0],s[5],s[9])"
   ]
  },
  {
   "cell_type": "code",
   "execution_count": 32,
   "id": "0ff2bb00",
   "metadata": {},
   "outputs": [
    {
     "name": "stdout",
     "output_type": "stream",
     "text": [
      "1.35 es <class 'float'>\n"
     ]
    }
   ],
   "source": [
    "print(x, \"es\", type(x))"
   ]
  },
  {
   "cell_type": "code",
   "execution_count": 35,
   "id": "069eafec",
   "metadata": {},
   "outputs": [
    {
     "data": {
      "text/plain": [
       "'o'"
      ]
     },
     "execution_count": 35,
     "metadata": {},
     "output_type": "execute_result"
    }
   ],
   "source": [
    "s[-1]"
   ]
  },
  {
   "cell_type": "code",
   "execution_count": 38,
   "id": "11330c76",
   "metadata": {},
   "outputs": [
    {
     "data": {
      "text/plain": [
       "'hola'"
      ]
     },
     "execution_count": 38,
     "metadata": {},
     "output_type": "execute_result"
    }
   ],
   "source": [
    "s[:4]"
   ]
  },
  {
   "cell_type": "code",
   "execution_count": 40,
   "id": "59122aa9",
   "metadata": {},
   "outputs": [
    {
     "name": "stdout",
     "output_type": "stream",
     "text": [
      "1.0\n"
     ]
    }
   ],
   "source": [
    "y=2/2\n",
    "type(y)\n",
    "print(y)"
   ]
  },
  {
   "cell_type": "code",
   "execution_count": 41,
   "id": "eda40b89",
   "metadata": {},
   "outputs": [
    {
     "data": {
      "text/plain": [
       "1"
      ]
     },
     "execution_count": 41,
     "metadata": {},
     "output_type": "execute_result"
    }
   ],
   "source": [
    "int(y)"
   ]
  },
  {
   "cell_type": "code",
   "execution_count": 43,
   "id": "a0cdc333",
   "metadata": {},
   "outputs": [
    {
     "data": {
      "text/plain": [
       "'1'"
      ]
     },
     "execution_count": 43,
     "metadata": {},
     "output_type": "execute_result"
    }
   ],
   "source": [
    "str(1)"
   ]
  },
  {
   "cell_type": "code",
   "execution_count": 44,
   "id": "cada9a22",
   "metadata": {},
   "outputs": [
    {
     "data": {
      "text/plain": [
       "'1.01.01.01.01.01.01.01.01.01.0'"
      ]
     },
     "execution_count": 44,
     "metadata": {},
     "output_type": "execute_result"
    }
   ],
   "source": [
    "y=2/2\n",
    "w= str(y)\n",
    "w*10"
   ]
  },
  {
   "cell_type": "markdown",
   "id": "7e314b6a",
   "metadata": {},
   "source": [
    "funcion input"
   ]
  },
  {
   "cell_type": "code",
   "execution_count": 46,
   "id": "c7fd75a2",
   "metadata": {},
   "outputs": [
    {
     "name": "stdout",
     "output_type": "stream",
     "text": [
      "escriba alguna miercoles: 1\n"
     ]
    },
    {
     "data": {
      "text/plain": [
       "'1'"
      ]
     },
     "execution_count": 46,
     "metadata": {},
     "output_type": "execute_result"
    }
   ],
   "source": [
    "input('escriba alguna miercoles: ')"
   ]
  },
  {
   "cell_type": "code",
   "execution_count": 48,
   "id": "b7393315",
   "metadata": {},
   "outputs": [
    {
     "name": "stdout",
     "output_type": "stream",
     "text": [
      "escriba su nombre: juan\n"
     ]
    }
   ],
   "source": [
    "nombre=input(\"escriba su nombre: \")"
   ]
  },
  {
   "cell_type": "code",
   "execution_count": 49,
   "id": "043ff11f",
   "metadata": {},
   "outputs": [
    {
     "data": {
      "text/plain": [
       "'juan'"
      ]
     },
     "execution_count": 49,
     "metadata": {},
     "output_type": "execute_result"
    }
   ],
   "source": [
    "nombre"
   ]
  },
  {
   "cell_type": "code",
   "execution_count": 51,
   "id": "65737b06",
   "metadata": {},
   "outputs": [
    {
     "name": "stdout",
     "output_type": "stream",
     "text": [
      "escriba su edad 17\n"
     ]
    }
   ],
   "source": [
    "edad= int(input(\"escriba su edad \"))"
   ]
  },
  {
   "cell_type": "code",
   "execution_count": 52,
   "id": "ee93b335",
   "metadata": {},
   "outputs": [
    {
     "name": "stdout",
     "output_type": "stream",
     "text": [
      "su edad es:  17\n"
     ]
    }
   ],
   "source": [
    "print (\"su edad es: \", edad)"
   ]
  },
  {
   "cell_type": "code",
   "execution_count": 53,
   "id": "bc2143fc",
   "metadata": {},
   "outputs": [
    {
     "data": {
      "text/plain": [
       "True"
      ]
     },
     "execution_count": 53,
     "metadata": {},
     "output_type": "execute_result"
    }
   ],
   "source": [
    "type(edad) ==int"
   ]
  },
  {
   "cell_type": "code",
   "execution_count": 54,
   "id": "76ca777a",
   "metadata": {},
   "outputs": [
    {
     "name": "stdout",
     "output_type": "stream",
     "text": [
      "cuanto cuesta el carro de sus sueños: 60000000\n"
     ]
    }
   ],
   "source": [
    "precio= float(input(\"cuanto cuesta el carro de sus sueños: \"))"
   ]
  },
  {
   "cell_type": "code",
   "execution_count": 61,
   "id": "73ddebee",
   "metadata": {},
   "outputs": [
    {
     "name": "stdout",
     "output_type": "stream",
     "text": [
      "juan que su edad es 17 años y sueña con un carro de  60000000.0\n"
     ]
    }
   ],
   "source": [
    "print(nombre,\"que su edad es\",edad, \"años\", \"y sueña con un carro de <\", precio)"
   ]
  },
  {
   "cell_type": "code",
   "execution_count": 62,
   "id": "e4af33b4",
   "metadata": {},
   "outputs": [
    {
     "name": "stdout",
     "output_type": "stream",
     "text": [
      "{},que su edad es {} años, y sueña con un carro de {} \n"
     ]
    }
   ],
   "source": [
    "print(\"{},que su edad es {} años, y sueña con un carro de {} \")"
   ]
  },
  {
   "cell_type": "code",
   "execution_count": 65,
   "id": "055d4b6f",
   "metadata": {},
   "outputs": [
    {
     "name": "stdout",
     "output_type": "stream",
     "text": [
      "juan que su edad es 17 años y sueña con un carro de 60000000.0 \n"
     ]
    }
   ],
   "source": [
    "print(f\"{nombre} que su edad es {edad} años y sueña con un carro de {precio} \")"
   ]
  },
  {
   "cell_type": "code",
   "execution_count": 1,
   "id": "5fe52621",
   "metadata": {},
   "outputs": [
    {
     "ename": "SyntaxError",
     "evalue": "invalid syntax (Temp/ipykernel_18156/736556731.py, line 4)",
     "output_type": "error",
     "traceback": [
      "\u001b[1;36m  File \u001b[1;32m\"C:\\Users\\JUANBE~1\\AppData\\Local\\Temp/ipykernel_18156/736556731.py\"\u001b[1;36m, line \u001b[1;32m4\u001b[0m\n\u001b[1;33m    print(\"hola\".rjust(40,\" \"))2a[]\u001b[0m\n\u001b[1;37m                               ^\u001b[0m\n\u001b[1;31mSyntaxError\u001b[0m\u001b[1;31m:\u001b[0m invalid syntax\n"
     ]
    }
   ],
   "source": [
    "print(\"hola\")\n",
    "print(\"hola\", center(40,\"-\"))\n",
    "print(\"hola\".ljust(40,\"#\"))\n",
    "print(\"hola\".rjust(40,\" \"))2a[]"
   ]
  },
  {
   "cell_type": "code",
   "execution_count": null,
   "id": "c82a5bf4",
   "metadata": {},
   "outputs": [],
   "source": []
  }
 ],
 "metadata": {
  "kernelspec": {
   "display_name": "Python 3 (ipykernel)",
   "language": "python",
   "name": "python3"
  },
  "language_info": {
   "codemirror_mode": {
    "name": "ipython",
    "version": 3
   },
   "file_extension": ".py",
   "mimetype": "text/x-python",
   "name": "python",
   "nbconvert_exporter": "python",
   "pygments_lexer": "ipython3",
   "version": "3.9.7"
  }
 },
 "nbformat": 4,
 "nbformat_minor": 5
}

{
 "cells": [
  {
   "cell_type": "code",
   "execution_count": 46,
   "id": "6ec0814b",
   "metadata": {},
   "outputs": [],
   "source": [
    "import sympy as sp"
   ]
  },
  {
   "cell_type": "code",
   "execution_count": 2,
   "id": "da775330",
   "metadata": {},
   "outputs": [],
   "source": [
    "x=sp.symbols('x')"
   ]
  },
  {
   "cell_type": "code",
   "execution_count": 3,
   "id": "15a9d91e",
   "metadata": {},
   "outputs": [],
   "source": [
    "y=sp.symbols('y')"
   ]
  },
  {
   "cell_type": "code",
   "execution_count": 4,
   "id": "07803641",
   "metadata": {},
   "outputs": [
    {
     "data": {
      "text/plain": [
       "20"
      ]
     },
     "execution_count": 4,
     "metadata": {},
     "output_type": "execute_result"
    }
   ],
   "source": [
    "4*5\n"
   ]
  },
  {
   "cell_type": "code",
   "execution_count": 5,
   "id": "c4c39bb0",
   "metadata": {},
   "outputs": [
    {
     "data": {
      "text/plain": [
       "[-1/2]"
      ]
     },
     "execution_count": 5,
     "metadata": {},
     "output_type": "execute_result"
    }
   ],
   "source": [
    "sp.solve(2*x+1)"
   ]
  },
  {
   "cell_type": "code",
   "execution_count": 22,
   "id": "8a0cc6ab",
   "metadata": {},
   "outputs": [
    {
     "data": {
      "text/latex": [
       "$\\displaystyle 3 x + 8 = 2 x - 3$"
      ],
      "text/plain": [
       "Eq(3*x + 8, 2*x - 3)"
      ]
     },
     "execution_count": 22,
     "metadata": {},
     "output_type": "execute_result"
    }
   ],
   "source": [
    "t=sp.Eq(3*x+8,2*x-3)"
   ]
  },
  {
   "cell_type": "code",
   "execution_count": 23,
   "id": "2b410db9",
   "metadata": {},
   "outputs": [
    {
     "data": {
      "text/plain": [
       "[-11]"
      ]
     },
     "execution_count": 23,
     "metadata": {},
     "output_type": "execute_result"
    }
   ],
   "source": [
    "sp.solve(t)"
   ]
  },
  {
   "cell_type": "code",
   "execution_count": 24,
   "id": "061437b3",
   "metadata": {},
   "outputs": [
    {
     "data": {
      "image/png": "[encoded data removed]",
      "text/plain": [
       "<Figure size 432x288 with 1 Axes>"
      ]
     },
     "metadata": {
      "needs_background": "light"
     },
     "output_type": "display_data"
    },
    {
     "data": {
      "text/plain": [
       "<sympy.plotting.plot.Plot at 0x20f1edc2bb0>"
      ]
     },
     "execution_count": 24,
     "metadata": {},
     "output_type": "execute_result"
    }
   ],
   "source": [
    "sp.plot(x**2)"
   ]
  },
  {
   "cell_type": "code",
   "execution_count": 25,
   "id": "056611de",
   "metadata": {},
   "outputs": [],
   "source": [
    "f=1/(x**2-4)"
   ]
  },
  {
   "cell_type": "code",
   "execution_count": 26,
   "id": "936abd32",
   "metadata": {},
   "outputs": [
    {
     "data": {
      "text/latex": [
       "$\\displaystyle - \\frac{1}{3}$"
      ],
      "text/plain": [
       "-1/3"
      ]
     },
     "execution_count": 26,
     "metadata": {},
     "output_type": "execute_result"
    }
   ],
   "source": [
    "f.subs(x,-1)"
   ]
  },
  {
   "cell_type": "code",
   "execution_count": 30,
   "id": "8d24dcea",
   "metadata": {},
   "outputs": [
    {
     "data": {
      "text/latex": [
       "$\\displaystyle \\frac{1}{x^{2} - 4} = 0$"
      ],
      "text/plain": [
       "Eq(1/(x**2 - 4), 0)"
      ]
     },
     "execution_count": 30,
     "metadata": {},
     "output_type": "execute_result"
    }
   ],
   "source": [
    "sp.Eq(1/(x**2-4))"
   ]
  },
  {
   "cell_type": "code",
   "execution_count": 31,
   "id": "fe646a1d",
   "metadata": {},
   "outputs": [
    {
     "data": {
      "text/latex": [
       "$\\displaystyle \\frac{1}{21}$"
      ],
      "text/plain": [
       "1/21"
      ]
     },
     "execution_count": 31,
     "metadata": {},
     "output_type": "execute_result"
    }
   ],
   "source": [
    "f.subs(x,5)"
   ]
  },
  {
   "cell_type": "code",
   "execution_count": 32,
   "id": "06ff0f2e",
   "metadata": {},
   "outputs": [],
   "source": [
    "g=3+x"
   ]
  },
  {
   "cell_type": "code",
   "execution_count": 33,
   "id": "c57e229a",
   "metadata": {},
   "outputs": [
    {
     "data": {
      "text/latex": [
       "$\\displaystyle \\frac{1}{\\left(x + 3\\right)^{2} - 4}$"
      ],
      "text/plain": [
       "1/((x + 3)**2 - 4)"
      ]
     },
     "execution_count": 33,
     "metadata": {},
     "output_type": "execute_result"
    }
   ],
   "source": [
    "f.subs(x,g)"
   ]
  },
  {
   "cell_type": "code",
   "execution_count": 35,
   "id": "de5e443e",
   "metadata": {},
   "outputs": [
    {
     "data": {
      "text/latex": [
       "$\\displaystyle \\left(x - 1\\right) \\left(x + 1\\right) \\left(x^{2} - x + 1\\right) \\left(x^{2} + x + 1\\right)$"
      ],
      "text/plain": [
       "(x - 1)*(x + 1)*(x**2 - x + 1)*(x**2 + x + 1)"
      ]
     },
     "execution_count": 35,
     "metadata": {},
     "output_type": "execute_result"
    }
   ],
   "source": [
    "sp.factor(x**6-1)"
   ]
  },
  {
   "cell_type": "code",
   "execution_count": 43,
   "id": "95dcafa3",
   "metadata": {},
   "outputs": [
    {
     "data": {
      "text/latex": [
       "$\\displaystyle x^{9} + 2 x$"
      ],
      "text/plain": [
       "x**9 + 2*x"
      ]
     },
     "execution_count": 43,
     "metadata": {},
     "output_type": "execute_result"
    }
   ],
   "source": [
    "sp.expand(2*x+x**9)"
   ]
  },
  {
   "cell_type": "code",
   "execution_count": 47,
   "id": "02555a1b",
   "metadata": {},
   "outputs": [
    {
     "data": {
      "image/png": "[encoded data removed]",
      "text/plain": [
       "<Figure size 432x288 with 1 Axes>"
      ]
     },
     "metadata": {
      "needs_background": "light"
     },
     "output_type": "display_data"
    },
    {
     "data": {
      "text/plain": [
       "<sympy.plotting.plot.Plot at 0x20f2189a880>"
      ]
     },
     "execution_count": 47,
     "metadata": {},
     "output_type": "execute_result"
    }
   ],
   "source": [
    "sp.plot(x*1)"
   ]
  },
  {
   "cell_type": "code",
   "execution_count": 49,
   "id": "1c52523b",
   "metadata": {},
   "outputs": [],
   "source": [
    "l=2*y+2*x"
   ]
  },
  {
   "cell_type": "code",
   "execution_count": 50,
   "id": "787ffa77",
   "metadata": {},
   "outputs": [
    {
     "data": {
      "text/latex": [
       "$\\displaystyle 2 x + \\frac{2}{x^{2} - 4}$"
      ],
      "text/plain": [
       "2*x + 2/(x**2 - 4)"
      ]
     },
     "execution_count": 50,
     "metadata": {},
     "output_type": "execute_result"
    }
   ],
   "source": [
    "l.subs(y,f)"
   ]
  },
  {
   "cell_type": "code",
   "execution_count": 51,
   "id": "f927e7d9",
   "metadata": {},
   "outputs": [
    {
     "data": {
      "text/latex": [
       "$\\displaystyle 18$"
      ],
      "text/plain": [
       "18"
      ]
     },
     "execution_count": 51,
     "metadata": {},
     "output_type": "execute_result"
    }
   ],
   "source": [
    "l.subs(x,6).subs(y,3)"
   ]
  },
  {
   "cell_type": "code",
   "execution_count": null,
   "id": "87d31e90",
   "metadata": {},
   "outputs": [],
   "source": []
  }
 ],
 "metadata": {
  "kernelspec": {
   "display_name": "Python 3 (ipykernel)",
   "language": "python",
   "name": "python3"
  },
  "language_info": {
   "codemirror_mode": {
    "name": "ipython",
    "version": 3
   },
   "file_extension": ".py",
   "mimetype": "text/x-python",
   "name": "python",
   "nbconvert_exporter": "python",
   "pygments_lexer": "ipython3",
   "version": "3.9.7"
  }
 },
 "nbformat": 4,
 "nbformat_minor": 5
}
